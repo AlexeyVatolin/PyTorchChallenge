{
 "cells": [
  {
   "cell_type": "code",
   "execution_count": null,
   "metadata": {},
   "outputs": [],
   "source": [
    "import torch\n",
    "import numpy as np"
   ]
  },
  {
   "cell_type": "markdown",
   "metadata": {},
   "source": [
    "1) There is torch Tensor <b>a</b> = ([0.4,0.2,0.5,0.6,0.8]). Create binary random numbers (0 or 1) from a Bernoulli distribution where probability based on <b>a</b>"
   ]
  },
  {
   "cell_type": "code",
   "execution_count": null,
   "metadata": {},
   "outputs": [],
   "source": [
    "torch.manual_seed(23)\n",
    "a = torch.tensor([0.4,0.2,0.5,0.6,0.8])\n",
    "res = ...\n",
    "assert np.allclose(res.numpy(),[0., 0., 1., 1., 0.]),\"Not the same!\""
   ]
  },
  {
   "cell_type": "code",
   "execution_count": null,
   "metadata": {},
   "outputs": [],
   "source": [
    "# Solution!\n",
    "# %load ex1.py"
   ]
  },
  {
   "cell_type": "markdown",
   "metadata": {},
   "source": [
    "2) There is tensor a with shape = (5,5) and tensor index_cols = [1,3]. Select columns from a with indexes = index_cols"
   ]
  },
  {
   "cell_type": "code",
   "execution_count": null,
   "metadata": {},
   "outputs": [],
   "source": [
    "torch.manual_seed(23)\n",
    "a = torch.randint(0,10,(5,5))\n",
    "index_cols= torch.tensor([1, 3])\n",
    "res = ...\n",
    "assert np.allclose(res.numpy(),[[6, 7],\n",
    "                                [7, 4],\n",
    "                                [6, 7],\n",
    "                                [5, 9],\n",
    "                                [9, 0]]),\"Not the same!\""
   ]
  },
  {
   "cell_type": "code",
   "execution_count": null,
   "metadata": {},
   "outputs": [],
   "source": [
    "# Solution!\n",
    "# %load ex2.py"
   ]
  },
  {
   "cell_type": "markdown",
   "metadata": {},
   "source": [
    "3) There is a tensor <b>a</b> = torch.tensor([1,3,2,4]). Create new tensor b, where each values repeat this value times"
   ]
  },
  {
   "cell_type": "code",
   "execution_count": null,
   "metadata": {},
   "outputs": [],
   "source": [
    "a = torch.tensor([1,3,2,4])\n",
    "b = ...\n",
    "assert np.allclose(b,[1, 3, 3, 3, 2, 2, 4, 4, 4, 4]),\"Not the same!\""
   ]
  },
  {
   "cell_type": "code",
   "execution_count": null,
   "metadata": {},
   "outputs": [],
   "source": [
    "# Solution!\n",
    "# %load ex3.py"
   ]
  }
 ],
 "metadata": {
  "kernelspec": {
   "display_name": "Python 3",
   "language": "python",
   "name": "python3"
  },
  "language_info": {
   "codemirror_mode": {
    "name": "ipython",
    "version": 3
   },
   "file_extension": ".py",
   "mimetype": "text/x-python",
   "name": "python",
   "nbconvert_exporter": "python",
   "pygments_lexer": "ipython3",
   "version": "3.6.4"
  }
 },
 "nbformat": 4,
 "nbformat_minor": 2
}

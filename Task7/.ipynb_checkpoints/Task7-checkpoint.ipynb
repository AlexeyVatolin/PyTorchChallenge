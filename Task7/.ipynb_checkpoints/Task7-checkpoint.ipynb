{
 "cells": [
  {
   "cell_type": "code",
   "execution_count": null,
   "metadata": {},
   "outputs": [],
   "source": [
    "import torch\n",
    "import numpy as np"
   ]
  },
  {
   "cell_type": "markdown",
   "metadata": {},
   "source": [
    "1) There is a tensor of positive values x = torch.tensor([0,1,2,3,1,1,2,5]).  Calculate occurences of all values from 0 to maximum"
   ]
  },
  {
   "cell_type": "code",
   "execution_count": null,
   "metadata": {},
   "outputs": [],
   "source": [
    "x = torch.tensor([0,1,2,3,1,1,2,5])\n",
    "res = ...\n",
    "assert np.allclose(res,[1, 3, 2, 1, 0, 1]), \"Not the same!\""
   ]
  },
  {
   "cell_type": "code",
   "execution_count": null,
   "metadata": {},
   "outputs": [],
   "source": [
    "# Solution!\n",
    "# %load ex1.py"
   ]
  },
  {
   "cell_type": "markdown",
   "metadata": {},
   "source": [
    "2) There are 2 tensors = a = torch.randn(5, 128), b = torch.randn(5, 128). Calculate cosine simmilarity between a and b"
   ]
  },
  {
   "cell_type": "code",
   "execution_count": null,
   "metadata": {},
   "outputs": [],
   "source": [
    "torch.manual_seed(2121)\n",
    "a = torch.randn(5, 128)\n",
    "b = torch.randn(5, 128)\n",
    "res = ...\n",
    "assert np.allclose(res,torch.tensor([ 0.1203, -0.0406, -0.0571, -0.0857,  0.0572]),rtol=1e-3), \"Not the same!\""
   ]
  },
  {
   "cell_type": "code",
   "execution_count": null,
   "metadata": {},
   "outputs": [],
   "source": [
    "# Solution!\n",
    "# %load ex2.py"
   ]
  },
  {
   "cell_type": "markdown",
   "metadata": {},
   "source": [
    "3) For advanced values encoding sometimes best approach is calculating Inverse error function. Do it for tensor a = torch.logspace(-10,-3,5)"
   ]
  },
  {
   "cell_type": "code",
   "execution_count": null,
   "metadata": {},
   "outputs": [],
   "source": [
    "a = torch.logspace(-10,-3,5)\n",
    "res = ...\n",
    "assert np.allclose(res,torch.tensor([8.8623e-11, 4.9836e-09, 2.8025e-07, 1.5760e-05, 8.8623e-04]),rtol=1e-4), \"Not the same!\""
   ]
  },
  {
   "cell_type": "code",
   "execution_count": null,
   "metadata": {},
   "outputs": [],
   "source": [
    "# Solution!\n",
    "# %load ex3.py"
   ]
  },
  {
   "cell_type": "code",
   "execution_count": null,
   "metadata": {},
   "outputs": [],
   "source": []
  }
 ],
 "metadata": {
  "kernelspec": {
   "display_name": "Python 3",
   "language": "python",
   "name": "python3"
  },
  "language_info": {
   "codemirror_mode": {
    "name": "ipython",
    "version": 3
   },
   "file_extension": ".py",
   "mimetype": "text/x-python",
   "name": "python",
   "nbconvert_exporter": "python",
   "pygments_lexer": "ipython3",
   "version": "3.6.4"
  }
 },
 "nbformat": 4,
 "nbformat_minor": 2
}

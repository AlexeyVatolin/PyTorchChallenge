{
 "cells": [
  {
   "cell_type": "code",
   "execution_count": 1,
   "metadata": {},
   "outputs": [],
   "source": [
    "import torch\n",
    "import numpy as np"
   ]
  },
  {
   "cell_type": "markdown",
   "metadata": {},
   "source": [
    "1) There are 2 Tensors a=torch.FloatTensor([1,2,3]) and b=torch.FloatTensor([2,3,4]). Calculate m and e, where m - manhattan distance between a and b and e - euclidean distance"
   ]
  },
  {
   "cell_type": "code",
   "execution_count": 113,
   "metadata": {},
   "outputs": [],
   "source": [
    "a=torch.FloatTensor([1,2,3])\n",
    "b=torch.FloatTensor([2,3,4])\n",
    "m = ...\n",
    "e = ...\n",
    "assert np.allclose(m,3)&np.allclose(e,1.7320508),\"Not the same!\""
   ]
  },
  {
   "cell_type": "code",
   "execution_count": null,
   "metadata": {},
   "outputs": [],
   "source": [
    "# Solution!\n",
    "# %load ex1.py"
   ]
  },
  {
   "cell_type": "markdown",
   "metadata": {},
   "source": [
    "2) There are 2 matrix A and B. Find matrix X, where A@X very close to B"
   ]
  },
  {
   "cell_type": "code",
   "execution_count": 237,
   "metadata": {},
   "outputs": [],
   "source": [
    "A = torch.arange(10,dtype=torch.float32).reshape(5,2)\n",
    "B = torch.FloatTensor([[ 2.],[ 8.],[14.],[20.],[26.]])\n",
    "X = ...\n",
    "assert np.allclose(A@X,B),\"Not the same!\""
   ]
  },
  {
   "cell_type": "code",
   "execution_count": 244,
   "metadata": {},
   "outputs": [],
   "source": [
    "# Solution!\n",
    "# %load ex2.py"
   ]
  },
  {
   "cell_type": "markdown",
   "metadata": {},
   "source": [
    "3) There is tensor y = tensor([0, 1, 2, 3, 4]). Estimate $$\\int y \\, dx $$"
   ]
  },
  {
   "cell_type": "code",
   "execution_count": 265,
   "metadata": {},
   "outputs": [],
   "source": [
    "y = torch.arange(0,5)\n",
    "y_ = ...\n",
    "assert np.allclose(y_,8),\"Not the same!\""
   ]
  },
  {
   "cell_type": "code",
   "execution_count": null,
   "metadata": {},
   "outputs": [],
   "source": [
    "# Solution!\n",
    "# %load ex3.py"
   ]
  }
 ],
 "metadata": {
  "kernelspec": {
   "display_name": "Python 3",
   "language": "python",
   "name": "python3"
  },
  "language_info": {
   "codemirror_mode": {
    "name": "ipython",
    "version": 3
   },
   "file_extension": ".py",
   "mimetype": "text/x-python",
   "name": "python",
   "nbconvert_exporter": "python",
   "pygments_lexer": "ipython3",
   "version": "3.6.4"
  }
 },
 "nbformat": 4,
 "nbformat_minor": 2
}

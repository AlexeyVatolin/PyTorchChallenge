{
 "cells": [
  {
   "cell_type": "code",
   "execution_count": 5,
   "metadata": {},
   "outputs": [],
   "source": [
    "import torch\n",
    "import numpy as np\n",
    "%matplotlib inline"
   ]
  },
  {
   "cell_type": "markdown",
   "metadata": {},
   "source": [
    "1) There is tensor x = torch.arange(1,4). Create tensor y where each row contains possible combinations of x values, length of combined values has to be 2 and replacement is possible"
   ]
  },
  {
   "cell_type": "code",
   "execution_count": null,
   "metadata": {},
   "outputs": [],
   "source": [
    "x=torch.arange(1,4)\n",
    "y = ...\n",
    "assert np.allclose(y,[[1, 1],\n",
    "                    [1, 2],\n",
    "                    [1, 3],\n",
    "                    [2, 2],\n",
    "                    [2, 3],\n",
    "                    [3, 3]]),\"Not the Same\""
   ]
  },
  {
   "cell_type": "code",
   "execution_count": null,
   "metadata": {},
   "outputs": [],
   "source": [
    "# Solution!\n",
    "# %load ex1.py"
   ]
  },
  {
   "cell_type": "markdown",
   "metadata": {},
   "source": [
    "2) But what if [1,2]!=[2,1] and we need such values too? Extend previous task and add <b>all</b> possible combinations "
   ]
  },
  {
   "cell_type": "code",
   "execution_count": null,
   "metadata": {},
   "outputs": [],
   "source": [
    "x=torch.arange(1,4)\n",
    "y = ...\n",
    "assert np.allclose(y,[[1, 1],\n",
    "                    [1, 2],\n",
    "                    [1, 3],\n",
    "                    [2, 1],\n",
    "                    [2, 2],\n",
    "                    [2, 3],\n",
    "                    [3, 1],\n",
    "                    [3, 2],\n",
    "                    [3, 3]]),\"Not the Same\""
   ]
  },
  {
   "cell_type": "code",
   "execution_count": null,
   "metadata": {},
   "outputs": [],
   "source": [
    "# Solution!\n",
    "# %load ex2.py"
   ]
  },
  {
   "cell_type": "markdown",
   "metadata": {},
   "source": [
    "3) How could we get this pattern with any N. Calculate tensor x (N,N) = with such pattern"
   ]
  },
  {
   "cell_type": "code",
   "execution_count": 6,
   "metadata": {},
   "outputs": [
    {
     "data": {
      "image/png": "[encoded data removed]",
      "text/plain": [
       "<Figure size 432x288 with 2 Axes>"
      ]
     },
     "metadata": {
      "needs_background": "light"
     },
     "output_type": "display_data"
    }
   ],
   "source": [
    "import seaborn as sns\n",
    "# Ideas for catching pattern\n",
    "pattern = np.array([[1., 1., 0., 1., 0., 1., 0., 1., 0., 1.],\n",
    "                    [0., 0., 0., 1., 0., 1., 0., 1., 0., 1.],\n",
    "                    [0., 1., 1., 1., 0., 1., 0., 1., 0., 1.],\n",
    "                    [0., 1., 0., 0., 0., 1., 0., 1., 0., 1.],\n",
    "                    [0., 1., 0., 1., 1., 1., 0., 1., 0., 1.],\n",
    "                    [0., 1., 0., 1., 0., 0., 0., 1., 0., 1.],\n",
    "                    [0., 1., 0., 1., 0., 1., 1., 1., 0., 1.],\n",
    "                    [0., 1., 0., 1., 0., 1., 0., 0., 0., 1.],\n",
    "                    [0., 1., 0., 1., 0., 1., 0., 1., 1., 1.],\n",
    "                    [0., 1., 0., 1., 0., 1., 0., 1., 0., 0.]])\n",
    "sns.heatmap(pattern);"
   ]
  },
  {
   "cell_type": "code",
   "execution_count": null,
   "metadata": {},
   "outputs": [],
   "source": [
    "N=10\n",
    "y = ...\n",
    "assert np.allclose(y,pattern),\"Not the Same\""
   ]
  },
  {
   "cell_type": "code",
   "execution_count": null,
   "metadata": {},
   "outputs": [],
   "source": [
    "# Solution!\n",
    "# %load ex3.py"
   ]
  },
  {
   "cell_type": "code",
   "execution_count": null,
   "metadata": {},
   "outputs": [],
   "source": []
  }
 ],
 "metadata": {
  "kernelspec": {
   "display_name": "Python 3",
   "language": "python",
   "name": "python3"
  },
  "language_info": {
   "codemirror_mode": {
    "name": "ipython",
    "version": 3
   },
   "file_extension": ".py",
   "mimetype": "text/x-python",
   "name": "python",
   "nbconvert_exporter": "python",
   "pygments_lexer": "ipython3",
   "version": "3.6.4"
  }
 },
 "nbformat": 4,
 "nbformat_minor": 2
}
